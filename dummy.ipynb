{
 "cells": [
  {
   "cell_type": "code",
   "execution_count": 1,
   "metadata": {},
   "outputs": [],
   "source": [
    "import numpy as np\n",
    "import pandas as pd\n",
    "import os\n",
    "import dlib\n",
    "import cv2\n",
    "from skimage.io import imshow\n",
    "from sklearn.metrics.pairwise import cosine_similarity\n",
    "import torch\n",
    "from torch import nn\n",
    "from torchvision.datasets import ImageFolder\n",
    "from torch.utils.data import DataLoader\n",
    "from torchvision import transforms as tfms\n",
    "from PIL import Image"
   ]
  },
  {
   "cell_type": "code",
   "execution_count": 2,
   "metadata": {},
   "outputs": [],
   "source": [
    "import cv2\n",
    "import os\n",
    "import numpy as np\n",
    "import random\n",
    "import argparse\n",
    "import pandas as pd\n",
    "from tqdm import tqdm\n",
    "\n",
    "SEED = 10\n",
    "random.seed(SEED)\n",
    "np.random.seed(SEED)\n",
    "\n",
    "# Dataset Parameters\n",
    "img_size = 224\n",
    "size = 15\n",
    "question_size = 10 # 6 for one-hot vector of color, 1 for question type, 3 for question subtype\n",
    "q_type_idx = 6\n",
    "sub_q_type_idx = 7\n",
    "nb_questions = 10\n",
    "# Possibles Answers : [yes, no, rectangle, circle, 1, 2, 3, 4, 5, 6]\n",
    "\n",
    "colors = [\n",
    "    (0,0,255), # red\n",
    "    (0,255,0), # green\n",
    "    (255,0,0), # blue\n",
    "    (0,156,255), # orange\n",
    "    (128,128,128), # gray\n",
    "    (0,255,255) # yellow\n",
    "]\n",
    "\n",
    "def center_generate(objects):\n",
    "    '''Generate centers of objects'''\n",
    "    while True:\n",
    "        pas = True\n",
    "        center = np.random.randint(0+size, img_size - size, 2)        \n",
    "        if len(objects) > 0:\n",
    "            for name, c, shape, _ in objects:\n",
    "                if ((center - c) ** 2).sum() < ((size * 2) ** 2):\n",
    "                    pas = False\n",
    "        if pas:\n",
    "            return center\n",
    "\n",
    "\n",
    "def build_sample():\n",
    "    '''Returns an image (with its bbox and attributes) and the corresponding questions, programs and answers'''\n",
    "    \n",
    "    # Create objects\n",
    "    objects = [] # [(color, center, shape, xmin, ymin, xmax, ymax), (...), ...]\n",
    "    img = np.ones((img_size,img_size,3)) * 255\n",
    "    for color_id, color in enumerate(colors):  \n",
    "        center = center_generate(objects)\n",
    "        if random.random()<0.5:\n",
    "            start = (center[0]-size, center[1]-size)\n",
    "            end = (center[0]+size, center[1]+size)\n",
    "            cv2.rectangle(img, start, end, color, -1)\n",
    "            objects.append((color_id, center, 'r', (start[0], start[1], end[0], end[1]))) \n",
    "        else:\n",
    "            start = (center[0]-size, center[1]-size)\n",
    "            end = (center[0]+size, center[1]+size)\n",
    "            center_ = (center[0], center[1])\n",
    "            cv2.circle(img, center_, size, color, -1)\n",
    "            objects.append((color_id, center, 'c', (start[0], start[1], end[0], end[1])))\n",
    "\n",
    "\n",
    "    rel_questions = []\n",
    "    norel_questions = []\n",
    "    rel_answers = []\n",
    "    norel_answers = []\n",
    "    \n",
    "    # Non-Relational Questions\n",
    "    for _ in range(nb_questions):\n",
    "        \n",
    "        question = np.zeros((question_size))\n",
    "        color = random.randint(0,5)\n",
    "        question[color] = 1\n",
    "        question[q_type_idx] = 0\n",
    "        subtype = random.randint(0,2)\n",
    "        question[subtype+sub_q_type_idx] = 1\n",
    "        norel_questions.append(question)\n",
    "        \n",
    "        if subtype == 0:\n",
    "            # query shape -> rectangle/circle\n",
    "            if objects[color][2] == 'r':\n",
    "                answer = 2\n",
    "            else:\n",
    "                answer = 3\n",
    "\n",
    "        elif subtype == 1:\n",
    "            # query is left side (horizontal position) -> yes/no\n",
    "            if objects[color][1][0] < img_size / 2:\n",
    "                answer = 0\n",
    "            else:\n",
    "                answer = 1\n",
    "\n",
    "        elif subtype == 2:\n",
    "            # query is up side (vertical position) -> yes/no\n",
    "            if objects[color][1][1] < img_size / 2:\n",
    "                answer = 0\n",
    "            else:\n",
    "                answer = 1\n",
    "        norel_answers.append(answer)\n",
    "    \n",
    "    # Relational Questions\n",
    "    for _ in range(nb_questions):\n",
    "        \n",
    "        question = np.zeros((question_size))\n",
    "        color = random.randint(0,5)\n",
    "        question[color] = 1\n",
    "        question[q_type_idx] = 1\n",
    "        subtype = random.randint(0,2)\n",
    "        question[subtype+sub_q_type_idx] = 1\n",
    "        rel_questions.append(question)\n",
    "\n",
    "        if subtype == 0:\n",
    "            # closest to -> rectangle/circle\n",
    "            my_obj = objects[color][1]\n",
    "            distances = np.array([np.linalg.norm(np.array(my_obj) - np.array(obj[1])) for obj in objects])\n",
    "            sorted_dists = distances.argsort()\n",
    "            idx = sorted_dists[0] if distances[sorted_dists[0]] != 0 else sorted_dists[1]\n",
    "#             dist_list = [((my_obj - obj[1]) ** 2).sum() for obj in objects]\n",
    "#             dist_list[dist_list.index(0)] = 999\n",
    "#             closest = dist_list.index(min(dist_list))\n",
    "            if objects[idx][2] == 'r':\n",
    "                answer = 2\n",
    "            else:\n",
    "                answer = 3\n",
    "                \n",
    "        elif subtype == 1:\n",
    "            # furthest from -> rectangle/circle\n",
    "            my_obj = objects[color][1]\n",
    "            distances = np.array([np.linalg.norm(np.array(my_obj) - np.array(obj[1])) for obj in objects])\n",
    "            sorted_dists = distances.argsort()\n",
    "            idx = sorted_dists[-1] if distances[sorted_dists[-1]] != 0 else sorted_dists[-2]\n",
    "#             dist_list = [((my_obj - obj[1]) ** 2).sum() for obj in objects]\n",
    "#             furthest = dist_list.index(max(dist_list))\n",
    "            if objects[idx][2] == 'r':\n",
    "                answer = 2\n",
    "            else:\n",
    "                answer = 3\n",
    "\n",
    "        elif subtype == 2:\n",
    "            # count -> 1~6\n",
    "            my_obj = objects[color][2]\n",
    "            count = -1\n",
    "            for obj in objects:\n",
    "                if obj[2] == my_obj:\n",
    "                    count += 1 \n",
    "            answer = count + 4\n",
    "\n",
    "        rel_answers.append(answer)\n",
    "\n",
    "    relations = (rel_questions, rel_answers)\n",
    "    norelations = (norel_questions, norel_answers)\n",
    "    img = img / 255.\n",
    "    sample = (img, objects, relations, norelations)\n",
    "    \n",
    "    return sample\n",
    "\n",
    "def convert_sample(sample):\n",
    "    '''Converts question/answer vector to natural language questions and programs'''\n",
    "    \n",
    "    img, objects, (rel_questions, rel_answers), (norel_questions, norel_answers) = sample\n",
    "    colors = ['red', 'green', 'blue', 'orange', 'gray', 'yellow']\n",
    "    answer_sheet = ['yes', 'no', 'rectangle', 'circle', '1', '2', '3', '4', '5', '6']\n",
    "    questions = rel_questions + norel_questions\n",
    "    answers = rel_answers + norel_answers\n",
    "    \n",
    "    queries = []\n",
    "    programs = []\n",
    "    text_answers = []\n",
    "\n",
    "    for i, (question, answer) in enumerate(zip(questions, answers)):\n",
    "        query = f'Q{i}. '\n",
    "        color = colors[question.tolist()[0:6].index(1)]\n",
    "        \n",
    "        # Non-relational questions\n",
    "        if question[q_type_idx] == 0:\n",
    "            if question[sub_q_type_idx] == 1:\n",
    "                queries.append(f'What is the shape of the {color} object?')\n",
    "                programs.append(f'filter {color} <nxt> query shape')\n",
    "                \n",
    "            elif question[sub_q_type_idx+1] == 1:\n",
    "                queries.append(f'Is there a {color} object on the left?')\n",
    "                programs.append(f'filter {color} <nxt> query position <nxt> isLeft')\n",
    "                \n",
    "            elif question[sub_q_type_idx+2] == 1:\n",
    "                queries.append(f'Is there a {color} object on the top?')\n",
    "                programs.append(f'filter {color} <nxt> query position <nxt> isTop')\n",
    "            \n",
    "        # Relational questions\n",
    "        elif question[q_type_idx] == 1:\n",
    "            if question[sub_q_type_idx] == 1:\n",
    "                queries.append(f'What is the closest shape to the {color} object?')\n",
    "                programs.append(f'filter {color} <nxt> relate closest <nxt> query shape')\n",
    "                \n",
    "            elif question[sub_q_type_idx+1] == 1:\n",
    "                queries.append(f'What is the furthest shape from the {color} object?')\n",
    "                programs.append(f'filter {color} <nxt> relate furthest <nxt> query shape')\n",
    "                \n",
    "            elif question[sub_q_type_idx+2] == 1:\n",
    "                queries.append(f'How many objects of the same shape as the {color} object are there?')\n",
    "                programs.append(f'filter {color} <nxt> query shape <nxt> filter <nxt> count')\n",
    "        \n",
    "        ans = answer_sheet[answer]\n",
    "        text_answers.append(ans)\n",
    "        \n",
    "    return img, objects, queries, programs, text_answers\n"
   ]
  },
  {
   "cell_type": "code",
   "execution_count": 3,
   "metadata": {},
   "outputs": [],
   "source": [
    "# Generate a sample i.e.\n",
    "# a tuple of 1 image, 6 objects' properties, 20 QA vectors (10 relational and 10 non-relational)\n",
    "sample = build_sample()"
   ]
  },
  {
   "cell_type": "code",
   "execution_count": 4,
   "metadata": {},
   "outputs": [],
   "source": [
    "# Break down the sample\n",
    "img, objects, queries, programs, answers = convert_sample(sample)"
   ]
  },
  {
   "cell_type": "code",
   "execution_count": 5,
   "metadata": {},
   "outputs": [],
   "source": [
    "img = (img * 255).astype('uint8')"
   ]
  },
  {
   "cell_type": "code",
   "execution_count": 6,
   "metadata": {},
   "outputs": [
    {
     "data": {
      "text/plain": [
       "<matplotlib.image.AxesImage at 0x7047f63bad70>"
      ]
     },
     "execution_count": 6,
     "metadata": {},
     "output_type": "execute_result"
    },
    {
     "data": {
      "image/png": "[encoded data removed]",
      "text/plain": [
       "<Figure size 640x480 with 1 Axes>"
      ]
     },
     "metadata": {},
     "output_type": "display_data"
    }
   ],
   "source": [
    "imshow(cv2.cvtColor(img, cv2.COLOR_BGR2RGB))"
   ]
  },
  {
   "cell_type": "code",
   "execution_count": 7,
   "metadata": {},
   "outputs": [
    {
     "data": {
      "text/plain": [
       "[(0, array([ 24, 140]), 'c', (9, 125, 39, 155)),\n",
       " (1, array([30, 79]), 'r', (15, 64, 45, 94)),\n",
       " (2, array([128, 138]), 'c', (113, 123, 143, 153)),\n",
       " (3, array([171, 172]), 'r', (156, 157, 186, 187)),\n",
       " (4, array([128,  23]), 'c', (113, 8, 143, 38)),\n",
       " (5, array([88, 15]), 'c', (73, 0, 103, 30))]"
      ]
     },
     "execution_count": 7,
     "metadata": {},
     "output_type": "execute_result"
    }
   ],
   "source": [
    "objects"
   ]
  },
  {
   "cell_type": "code",
   "execution_count": 8,
   "metadata": {},
   "outputs": [],
   "source": [
    "def build_dataset(num_samples, data_dir, prefix='train'):\n",
    "    '''Builds a Full Dataset with Images, Detector Data, Attribute Data, Queries, Programs and Answers'''\n",
    "    \n",
    "    # Generate Samples\n",
    "    samples = [build_sample() for _ in range(num_samples)]\n",
    "    \n",
    "    # Init dataframes\n",
    "    img_det_df = pd.DataFrame(columns=['filename', 'width', 'height', 'class', 'xmin', 'ymin', 'xmax', 'ymax'])\n",
    "    que2prog_df = pd.DataFrame(columns=['filename', 'answer', 'query_text', 'program_text'])\n",
    "    \n",
    "    img_dir = os.path.join(data_dir, 'images')\n",
    "    shape_map = {'r': 'rectangle', 'c': 'circle'}\n",
    "    \n",
    "    try:\n",
    "        os.makedirs(data_dir)\n",
    "    except:\n",
    "        pass\n",
    "    \n",
    "    try:\n",
    "        os.makedirs(img_dir)\n",
    "    except:\n",
    "        pass\n",
    "    \n",
    "    for i, sample in enumerate(tqdm(samples)):\n",
    "        # Get Data\n",
    "        img, objects, queries, programs, answers = convert_sample(sample)\n",
    "        \n",
    "        # Save Image\n",
    "        filename = f'{i}.jpg'\n",
    "        img_path = os.path.join(img_dir, filename)\n",
    "        cv2.imwrite(img_path, img * 255)\n",
    "        \n",
    "        # Append image data to dataframes\n",
    "        for obj in objects:\n",
    "            # Get object params\n",
    "            color_id, shape, bbox = obj[0], shape_map[obj[2]], obj[3]\n",
    "            \n",
    "            img_det_df = img_det_df.append({'filename': filename, \n",
    "                                            'width': img_size, \n",
    "                                            'height': img_size, \n",
    "                                            'class': 'obj', \n",
    "                                            'xmin': bbox[0], 'ymin': bbox[1],\n",
    "                                            'xmax': bbox[2], 'ymax': bbox[3]}, ignore_index=True)\n",
    "        \n",
    "        # Append text data to dataframe\n",
    "        for answer, query, program in zip(answers, queries, programs):\n",
    "            que2prog_df = que2prog_df.append({'filename': filename,\n",
    "                                              'answer': answer,\n",
    "                                              'query_text': query,\n",
    "                                              'program_text': program}, ignore_index=True)\n",
    "    \n",
    "    # Save to csv files\n",
    "    img_det_df.to_csv(os.path.join(data_dir, f'{prefix}_img_det.csv'), index=False)\n",
    "    que2prog_df.to_csv(os.path.join(data_dir, f'{prefix}_q2p.csv'), index=False)"
   ]
  },
  {
   "cell_type": "code",
   "execution_count": 9,
   "metadata": {},
   "outputs": [
    {
     "name": "stderr",
     "output_type": "stream",
     "text": [
      "  0%|          | 0/100 [00:00<?, ?it/s]\n"
     ]
    },
    {
     "ename": "AttributeError",
     "evalue": "'DataFrame' object has no attribute 'append'",
     "output_type": "error",
     "traceback": [
      "\u001b[0;31m---------------------------------------------------------------------------\u001b[0m",
      "\u001b[0;31mAttributeError\u001b[0m                            Traceback (most recent call last)",
      "\u001b[0;32m/tmp/ipykernel_251043/1739084571.py\u001b[0m in \u001b[0;36m?\u001b[0;34m()\u001b[0m\n\u001b[1;32m      1\u001b[0m \u001b[0;31m# Generate the dataset\u001b[0m\u001b[0;34m\u001b[0m\u001b[0;34m\u001b[0m\u001b[0m\n\u001b[1;32m      2\u001b[0m \u001b[0mn_train_imgs\u001b[0m \u001b[0;34m=\u001b[0m \u001b[0;36m100\u001b[0m\u001b[0;34m\u001b[0m\u001b[0;34m\u001b[0m\u001b[0m\n\u001b[1;32m      3\u001b[0m \u001b[0mn_test_imgs\u001b[0m \u001b[0;34m=\u001b[0m \u001b[0;36m10\u001b[0m\u001b[0;34m\u001b[0m\u001b[0;34m\u001b[0m\u001b[0m\n\u001b[1;32m      4\u001b[0m \u001b[0;34m\u001b[0m\u001b[0m\n\u001b[0;32m----> 5\u001b[0;31m \u001b[0mbuild_dataset\u001b[0m\u001b[0;34m(\u001b[0m\u001b[0mn_train_imgs\u001b[0m\u001b[0;34m,\u001b[0m \u001b[0mdata_dir\u001b[0m\u001b[0;34m=\u001b[0m\u001b[0;34m'data/train'\u001b[0m\u001b[0;34m,\u001b[0m \u001b[0mprefix\u001b[0m\u001b[0;34m=\u001b[0m\u001b[0;34m'train'\u001b[0m\u001b[0;34m)\u001b[0m\u001b[0;34m\u001b[0m\u001b[0;34m\u001b[0m\u001b[0m\n\u001b[0m\u001b[1;32m      6\u001b[0m \u001b[0mbuild_dataset\u001b[0m\u001b[0;34m(\u001b[0m\u001b[0mn_test_imgs\u001b[0m\u001b[0;34m,\u001b[0m \u001b[0mdata_dir\u001b[0m\u001b[0;34m=\u001b[0m\u001b[0;34m'data/test'\u001b[0m\u001b[0;34m,\u001b[0m \u001b[0mprefix\u001b[0m\u001b[0;34m=\u001b[0m\u001b[0;34m'test'\u001b[0m\u001b[0;34m)\u001b[0m\u001b[0;34m\u001b[0m\u001b[0;34m\u001b[0m\u001b[0m\n",
      "\u001b[0;32m/tmp/ipykernel_251043/1008171856.py\u001b[0m in \u001b[0;36m?\u001b[0;34m(num_samples, data_dir, prefix)\u001b[0m\n\u001b[1;32m     34\u001b[0m         \u001b[0;32mfor\u001b[0m \u001b[0mobj\u001b[0m \u001b[0;32min\u001b[0m \u001b[0mobjects\u001b[0m\u001b[0;34m:\u001b[0m\u001b[0;34m\u001b[0m\u001b[0;34m\u001b[0m\u001b[0m\n\u001b[1;32m     35\u001b[0m             \u001b[0;31m# Get object params\u001b[0m\u001b[0;34m\u001b[0m\u001b[0;34m\u001b[0m\u001b[0m\n\u001b[1;32m     36\u001b[0m             \u001b[0mcolor_id\u001b[0m\u001b[0;34m,\u001b[0m \u001b[0mshape\u001b[0m\u001b[0;34m,\u001b[0m \u001b[0mbbox\u001b[0m \u001b[0;34m=\u001b[0m \u001b[0mobj\u001b[0m\u001b[0;34m[\u001b[0m\u001b[0;36m0\u001b[0m\u001b[0;34m]\u001b[0m\u001b[0;34m,\u001b[0m \u001b[0mshape_map\u001b[0m\u001b[0;34m[\u001b[0m\u001b[0mobj\u001b[0m\u001b[0;34m[\u001b[0m\u001b[0;36m2\u001b[0m\u001b[0;34m]\u001b[0m\u001b[0;34m]\u001b[0m\u001b[0;34m,\u001b[0m \u001b[0mobj\u001b[0m\u001b[0;34m[\u001b[0m\u001b[0;36m3\u001b[0m\u001b[0;34m]\u001b[0m\u001b[0;34m\u001b[0m\u001b[0;34m\u001b[0m\u001b[0m\n\u001b[1;32m     37\u001b[0m \u001b[0;34m\u001b[0m\u001b[0m\n\u001b[0;32m---> 38\u001b[0;31m             img_det_df = img_det_df.append({'filename': filename, \n\u001b[0m\u001b[1;32m     39\u001b[0m                                             \u001b[0;34m'width'\u001b[0m\u001b[0;34m:\u001b[0m \u001b[0mimg_size\u001b[0m\u001b[0;34m,\u001b[0m\u001b[0;34m\u001b[0m\u001b[0;34m\u001b[0m\u001b[0m\n\u001b[1;32m     40\u001b[0m                                             \u001b[0;34m'height'\u001b[0m\u001b[0;34m:\u001b[0m \u001b[0mimg_size\u001b[0m\u001b[0;34m,\u001b[0m\u001b[0;34m\u001b[0m\u001b[0;34m\u001b[0m\u001b[0m\n\u001b[1;32m     41\u001b[0m                                             \u001b[0;34m'class'\u001b[0m\u001b[0;34m:\u001b[0m \u001b[0;34m'obj'\u001b[0m\u001b[0;34m,\u001b[0m\u001b[0;34m\u001b[0m\u001b[0;34m\u001b[0m\u001b[0m\n",
      "\u001b[0;32m~/.local/lib/python3.10/site-packages/pandas/core/generic.py\u001b[0m in \u001b[0;36m?\u001b[0;34m(self, name)\u001b[0m\n\u001b[1;32m   6295\u001b[0m             \u001b[0;32mand\u001b[0m \u001b[0mname\u001b[0m \u001b[0;32mnot\u001b[0m \u001b[0;32min\u001b[0m \u001b[0mself\u001b[0m\u001b[0;34m.\u001b[0m\u001b[0m_accessors\u001b[0m\u001b[0;34m\u001b[0m\u001b[0;34m\u001b[0m\u001b[0m\n\u001b[1;32m   6296\u001b[0m             \u001b[0;32mand\u001b[0m \u001b[0mself\u001b[0m\u001b[0;34m.\u001b[0m\u001b[0m_info_axis\u001b[0m\u001b[0;34m.\u001b[0m\u001b[0m_can_hold_identifiers_and_holds_name\u001b[0m\u001b[0;34m(\u001b[0m\u001b[0mname\u001b[0m\u001b[0;34m)\u001b[0m\u001b[0;34m\u001b[0m\u001b[0;34m\u001b[0m\u001b[0m\n\u001b[1;32m   6297\u001b[0m         ):\n\u001b[1;32m   6298\u001b[0m             \u001b[0;32mreturn\u001b[0m \u001b[0mself\u001b[0m\u001b[0;34m[\u001b[0m\u001b[0mname\u001b[0m\u001b[0;34m]\u001b[0m\u001b[0;34m\u001b[0m\u001b[0;34m\u001b[0m\u001b[0m\n\u001b[0;32m-> 6299\u001b[0;31m         \u001b[0;32mreturn\u001b[0m \u001b[0mobject\u001b[0m\u001b[0;34m.\u001b[0m\u001b[0m__getattribute__\u001b[0m\u001b[0;34m(\u001b[0m\u001b[0mself\u001b[0m\u001b[0;34m,\u001b[0m \u001b[0mname\u001b[0m\u001b[0;34m)\u001b[0m\u001b[0;34m\u001b[0m\u001b[0;34m\u001b[0m\u001b[0m\n\u001b[0m",
      "\u001b[0;31mAttributeError\u001b[0m: 'DataFrame' object has no attribute 'append'"
     ]
    }
   ],
   "source": [
    "# Generate the dataset\n",
    "n_train_imgs = 100\n",
    "n_test_imgs = 10\n",
    "\n",
    "build_dataset(n_train_imgs, data_dir='data/train', prefix='train')\n",
    "build_dataset(n_test_imgs, data_dir='data/test', prefix='test')"
   ]
  },
  {
   "cell_type": "code",
   "execution_count": null,
   "metadata": {},
   "outputs": [],
   "source": [
    "def load_image_data(csv_file, img_dir):\n",
    "    '''Load the image detection data for training the object detector'''\n",
    "    # Annotations\n",
    "    annot = pd.read_csv(csv_file)\n",
    "    \n",
    "    data = {}\n",
    "    for i in range(len(os.listdir(img_dir))):\n",
    "        # Get all rows belonging to the same scene\n",
    "        scene = annot[annot['filename'] == f'{i}.jpg']\n",
    "        # Read the image\n",
    "        img = cv2.imread(os.path.join(img_dir, f'{i}.jpg'))\n",
    "        \n",
    "        # Add bounding box information for dlib\n",
    "        bboxes = []\n",
    "        for row in scene.values:\n",
    "            x1, y1, x2, y2 = row[-4:]\n",
    "            dlib_box = dlib.rectangle(left=x1 , top=y1, right=x2, bottom=y2)\n",
    "            bboxes.append(dlib_box)\n",
    "        \n",
    "        data[i] = (img, bboxes)\n",
    "    \n",
    "    return data"
   ]
  },
  {
   "cell_type": "code",
   "execution_count": 10,
   "metadata": {},
   "outputs": [
    {
     "ename": "NameError",
     "evalue": "name 'load_image_data' is not defined",
     "output_type": "error",
     "traceback": [
      "\u001b[0;31m---------------------------------------------------------------------------\u001b[0m",
      "\u001b[0;31mNameError\u001b[0m                                 Traceback (most recent call last)",
      "Cell \u001b[0;32mIn[10], line 2\u001b[0m\n\u001b[1;32m      1\u001b[0m \u001b[38;5;66;03m# Load the Image Detection Data\u001b[39;00m\n\u001b[0;32m----> 2\u001b[0m det_data \u001b[38;5;241m=\u001b[39m \u001b[43mload_image_data\u001b[49m(\u001b[38;5;124m'\u001b[39m\u001b[38;5;124mdata/train/train_img_det.csv\u001b[39m\u001b[38;5;124m'\u001b[39m, \u001b[38;5;124m'\u001b[39m\u001b[38;5;124mdata/train/images\u001b[39m\u001b[38;5;124m'\u001b[39m)\n",
      "\u001b[0;31mNameError\u001b[0m: name 'load_image_data' is not defined"
     ]
    }
   ],
   "source": [
    "# Load the Image Detection Data\n",
    "det_data = load_image_data('data/train/train_img_det.csv', 'data/train/images')"
   ]
  },
  {
   "cell_type": "code",
   "execution_count": 11,
   "metadata": {},
   "outputs": [
    {
     "ename": "NameError",
     "evalue": "name 'det_data' is not defined",
     "output_type": "error",
     "traceback": [
      "\u001b[0;31m---------------------------------------------------------------------------\u001b[0m",
      "\u001b[0;31mNameError\u001b[0m                                 Traceback (most recent call last)",
      "Cell \u001b[0;32mIn[11], line 1\u001b[0m\n\u001b[0;32m----> 1\u001b[0m \u001b[43mdet_data\u001b[49m[\u001b[38;5;241m4\u001b[39m][\u001b[38;5;241m1\u001b[39m]\n",
      "\u001b[0;31mNameError\u001b[0m: name 'det_data' is not defined"
     ]
    }
   ],
   "source": [
    "det_data[4][1]"
   ]
  },
  {
   "cell_type": "code",
   "execution_count": 12,
   "metadata": {},
   "outputs": [],
   "source": [
    "import numpy as np\n",
    "import pandas as pd\n",
    "import os\n",
    "import dlib\n",
    "import cv2\n",
    "from sklearn.metrics.pairwise import cosine_similarity\n",
    "import torch\n",
    "from torch import nn\n",
    "from torchvision.datasets import ImageFolder\n",
    "from torch.utils.data import DataLoader\n",
    "from torchvision import transforms as tfms\n",
    "from PIL import Image\n",
    "from tqdm.notebook import tqdm\n",
    "\n",
    "\n",
    "def train_detector(train_data, filename='detector.svm'):\n",
    "    '''Trains an object detector (HOG + SVM) and saves the model'''\n",
    "    \n",
    "    # Seperate the images and bounding boxes in different lists.\n",
    "    images = [val[0] for val in train_data.values()]\n",
    "    bounding_boxes = [val[1] for val in train_data.values()]\n",
    "    \n",
    "    # Initialize object detector Options\n",
    "    options = dlib.simple_object_detector_training_options()\n",
    "    options.add_left_right_image_flips = False\n",
    "    options.C = 5\n",
    "    \n",
    "    # Train the model\n",
    "    detector = dlib.train_simple_object_detector(images, bounding_boxes, options)\n",
    "    \n",
    "    # Check results\n",
    "    results = dlib.test_simple_object_detector(images, bounding_boxes, detector)\n",
    "    print(f'Training Results: {results}')\n",
    "    \n",
    "    # Save model\n",
    "    detector.save(filename)\n",
    "    print(f'Saved the model to {filename}')"
   ]
  },
  {
   "cell_type": "code",
   "execution_count": 13,
   "metadata": {},
   "outputs": [
    {
     "ename": "NameError",
     "evalue": "name 'det_data' is not defined",
     "output_type": "error",
     "traceback": [
      "\u001b[0;31m---------------------------------------------------------------------------\u001b[0m",
      "\u001b[0;31mNameError\u001b[0m                                 Traceback (most recent call last)",
      "File \u001b[0;32m<timed eval>:2\u001b[0m\n",
      "\u001b[0;31mNameError\u001b[0m: name 'det_data' is not defined"
     ]
    }
   ],
   "source": [
    "%%time\n",
    "# Train the Model\n",
    "train_detector(det_data, 'detector.svm')"
   ]
  },
  {
   "cell_type": "code",
   "execution_count": null,
   "metadata": {},
   "outputs": [],
   "source": [
    "class Binarize():\n",
    "    '''PyTorch Transforms Object'''\n",
    "    def __init__(self):\n",
    "        '''Converts Grayscale to Binary (except white every other color is zeroed)'''\n",
    "        pass\n",
    "    \n",
    "    def __call__(self, img_tensor):\n",
    "        '''\n",
    "        Args:\n",
    "            img_tensor (tensor): 0-1 scaled tensor with 1 channel\n",
    "        Returns:\n",
    "            tensor\n",
    "        '''\n",
    "        return (img_tensor > 0.95).float()"
   ]
  },
  {
   "cell_type": "code",
   "execution_count": null,
   "metadata": {},
   "outputs": [],
   "source": [
    "# Load the images\n",
    "shapes_data = ImageFolder('data/shapes_data/', transform=tfms.Compose([tfms.Grayscale(), \n",
    "                                                                       tfms.Resize((40, 40)), \n",
    "                                                                       tfms.ToTensor(),\n",
    "                                                                       Binarize()]))"
   ]
  },
  {
   "cell_type": "code",
   "execution_count": null,
   "metadata": {},
   "outputs": [
    {
     "data": {
      "text/plain": [
       "{'circle': 0, 'rectangle': 1}"
      ]
     },
     "execution_count": 48,
     "metadata": {},
     "output_type": "execute_result"
    }
   ],
   "source": [
    "shapes_data.class_to_idx"
   ]
  },
  {
   "cell_type": "code",
   "execution_count": null,
   "metadata": {},
   "outputs": [],
   "source": [
    "# Create the dataloader\n",
    "shapes_loader = DataLoader(shapes_data, batch_size=20, shuffle=True)"
   ]
  },
  {
   "cell_type": "code",
   "execution_count": null,
   "metadata": {},
   "outputs": [],
   "source": [
    "class ShapeClassifier(nn.Module):\n",
    "    '''Simple CNN based Image Classifier for Shapes (circle | rectangle)'''\n",
    "    def __init__(self):\n",
    "        super().__init__()\n",
    "        self.conv = nn.Sequential(nn.Conv2d(1, 28, 3, stride=2, padding=1),\n",
    "                                  nn.BatchNorm2d(28),\n",
    "                                  nn.Conv2d(28, 28, 3, stride=2, padding=1),\n",
    "                                  nn.BatchNorm2d(28),\n",
    "                                  nn.Conv2d(28, 28, 3, stride=2, padding=1),\n",
    "                                  nn.BatchNorm2d(28))\n",
    "        self.fc = nn.Linear(700, 1)\n",
    "    \n",
    "    def forward(self, x):\n",
    "        '''Forward Pass'''\n",
    "        # batch_size (N)\n",
    "        N = x.size()[0]\n",
    "        # Extract features with CNN\n",
    "        x = self.conv(x)\n",
    "        # Classifier head\n",
    "        x = self.fc(x.reshape(N, -1))\n",
    "        \n",
    "        return x\n",
    "    \n",
    "    def train_classifier(self, train_loader, lr=0.0001, epochs=10, filename='classifier.pth', device=None):\n",
    "        '''Train the shape classifier'''\n",
    "        # Automatically set device if not provided\n",
    "        if device is None:\n",
    "            device = 'cuda' if torch.cuda.is_available() else 'cpu'\n",
    "        \n",
    "        # Mount to device\n",
    "        self.to(device)\n",
    "        \n",
    "        # Create optimizer and loss function\n",
    "        optimizer = torch.optim.Adam(self.parameters(), lr=lr)\n",
    "        criterion = nn.BCEWithLogitsLoss()\n",
    "        \n",
    "        self.train()\n",
    "        # Start Training\n",
    "        for epoch in range(epochs):\n",
    "            pbar = tqdm(total=len(train_loader), desc='Epoch {}'.format(epoch+1))\n",
    "            losses = []\n",
    "            \n",
    "            for i, (image, label) in enumerate(train_loader):\n",
    "                # Mount to device\n",
    "                image, label = image.to(device).float(), label.to(device)\n",
    "                \n",
    "                # Forward prop\n",
    "                out = self(image)\n",
    "                \n",
    "                # Loss\n",
    "                loss = criterion(out.squeeze(1), label.float())\n",
    "                \n",
    "                # Backprop and Optimization\n",
    "                loss.backward()\n",
    "                optimizer.step()\n",
    "                \n",
    "                # Verbose\n",
    "                losses.append(loss.item())\n",
    "                pbar.update(1)\n",
    "                pbar.set_postfix({'Loss': loss.item()})\n",
    "            \n",
    "            print(f'Epoch {epoch+1}: Mean Loss = {sum(losses)/len(losses)}')\n",
    "            pbar.close()\n",
    "            \n",
    "        # Save model\n",
    "        torch.save(self.state_dict(), filename)"
   ]
  },
  {
   "cell_type": "code",
   "execution_count": null,
   "metadata": {},
   "outputs": [],
   "source": [
    "# Model\n",
    "shape_classifier = ShapeClassifier()"
   ]
  },
  {
   "cell_type": "code",
   "execution_count": null,
   "metadata": {},
   "outputs": [],
   "source": [
    "# Train\n",
    "shape_classifier.train_classifier(shapes_loader, lr=0.0001, epochs=50, filename='classifier.pth')"
   ]
  },
  {
   "cell_type": "code",
   "execution_count": null,
   "metadata": {},
   "outputs": [],
   "source": [
    "class PerceptionPipe():\n",
    "    '''\n",
    "    Full Perception Pipeline i.e.\n",
    "    detector -> attribute extraction -> structural scene representation\n",
    "    '''\n",
    "    def __init__(self, detector_file, classifer_file, device='cpu'):\n",
    "        # Object detector\n",
    "        self.detector = dlib.simple_object_detector(detector_file)\n",
    "        \n",
    "        # Shape Classifier\n",
    "        self.classifier = ShapeClassifier().to(device)\n",
    "        self.classifier.load_state_dict(torch.load(classifer_file))\n",
    "        self.device = device\n",
    "        \n",
    "        self.colors = np.array([[0,0,255], [0,255,0], [255,0,0], \n",
    "                               [0,156,255], [128,128,128], [0,255,255]])\n",
    "        \n",
    "        self.idx2color = {0: 'red', 1: 'green', 2: 'blue', 3: 'orange', 4: 'gray', 5: 'yellow'}\n",
    "        self.preproc = tfms.Compose([tfms.Grayscale(),\n",
    "                                     tfms.Resize((40, 40)),\n",
    "                                     tfms.ToTensor(),\n",
    "                                     Binarize()])\n",
    "    \n",
    "    \n",
    "    def detect(self, img):\n",
    "        '''Detects and Returns Objects and its centers'''\n",
    "        # Detect\n",
    "        detections = self.detector(img)\n",
    "        objects = []\n",
    "        \n",
    "        for detection in detections:\n",
    "            # Get the bbox coords\n",
    "            x1, y1 = int(detection.left()), int(detection.top())\n",
    "            x2, y2 = int(detection.right()), int(detection.bottom())\n",
    "            \n",
    "            # Clip negative values to zero\n",
    "            x1, y1, x2, y2 = np.array([x1, y1, x2, y2]).clip(min=0).tolist()\n",
    "\n",
    "            # Find the center\n",
    "            center = (int((x1+x2)/2), int((y1+y2)/2))\n",
    "\n",
    "            # Crop the individual object\n",
    "            obj = img[y1:y2, x1:x2]\n",
    "\n",
    "            objects.append((obj, center))\n",
    "            \n",
    "        return objects\n",
    "    \n",
    "    \n",
    "    def extract_attributes(self, x_img, prob=0.5, debug=False):\n",
    "        '''Returns the shape and color of a given object'''\n",
    "        # Load image as PIL instance (color image)\n",
    "        image = Image.fromarray(cv2.cvtColor(x_img, cv2.COLOR_BGR2RGB))\n",
    "        # Preprocess (binarized image)\n",
    "        img = self.preproc(image).unsqueeze(0).to(self.device)\n",
    "        \n",
    "        # Predict Shape\n",
    "        with torch.no_grad():\n",
    "            out = torch.sigmoid(self.classifier(img)).squeeze()\n",
    "            if debug:\n",
    "                print(out)\n",
    "        if out < prob:\n",
    "            shape = 'circle'\n",
    "        else:\n",
    "            shape = 'rectangle'\n",
    "            \n",
    "        # Extract Color\n",
    "        center_pixel = (x_img[20, 20, :]).astype('int')\n",
    "        \n",
    "        color_id = cosine_similarity(center_pixel.reshape(1, -1), self.colors).argmax()\n",
    "        color = self.idx2color[color_id]\n",
    "        \n",
    "#         print(center_pixel)\n",
    "#         print(color_id)\n",
    "        \n",
    "        return shape, color\n",
    "    \n",
    "    def scene_repr(self, img, prob=0.5, debug=False):\n",
    "        '''Returns a structured scene representation as a dataframe'''\n",
    "        # Perform object detection and get the objects\n",
    "        objects = self.detect(img)\n",
    "        \n",
    "        # Init Scene representation\n",
    "        scene_df = pd.DataFrame(columns=['shape', 'color', 'position'])\n",
    "        \n",
    "        for obj, center in objects:\n",
    "            shape, color = self.extract_attributes(obj, prob, debug)\n",
    "            scene_df = scene_df.append({'shape': shape, \n",
    "                                        'color': color, \n",
    "                                        'position': center}, ignore_index=True)\n",
    "        \n",
    "        return scene_df"
   ]
  },
  {
   "cell_type": "code",
   "execution_count": null,
   "metadata": {},
   "outputs": [],
   "source": [
    "# Load the Model\n",
    "perceiver = PerceptionPipe('detector.svm', 'classifier.pth', device='cuda')"
   ]
  },
  {
   "cell_type": "code",
   "execution_count": null,
   "metadata": {},
   "outputs": [],
   "source": [
    "# Inference with Detector\n",
    "objects = perceiver.detect(img)"
   ]
  },
  {
   "cell_type": "code",
   "execution_count": null,
   "metadata": {},
   "outputs": [
    {
     "data": {
      "text/plain": [
       "2"
      ]
     },
     "execution_count": 62,
     "metadata": {},
     "output_type": "execute_result"
    }
   ],
   "source": [
    "len(objects[0])"
   ]
  },
  {
   "cell_type": "code",
   "execution_count": null,
   "metadata": {},
   "outputs": [
    {
     "name": "stdout",
     "output_type": "stream",
     "text": [
      "Shape = circle\n",
      "Color = blue\n"
     ]
    }
   ],
   "source": [
    "# Inference with Attribute Extractor (Shape Classifier, Color Extractor)\n",
    "shape, color = perceiver.extract_attributes(objects[3][0])\n",
    "print(f'Shape = {shape}\\nColor = {color}')"
   ]
  },
  {
   "cell_type": "code",
   "execution_count": null,
   "metadata": {},
   "outputs": [
    {
     "name": "stderr",
     "output_type": "stream",
     "text": [
      "/tmp/ipykernel_8862/1678006832.py:88: FutureWarning: The frame.append method is deprecated and will be removed from pandas in a future version. Use pandas.concat instead.\n",
      "  scene_df = scene_df.append({'shape': shape,\n",
      "/tmp/ipykernel_8862/1678006832.py:88: FutureWarning: The frame.append method is deprecated and will be removed from pandas in a future version. Use pandas.concat instead.\n",
      "  scene_df = scene_df.append({'shape': shape,\n",
      "/tmp/ipykernel_8862/1678006832.py:88: FutureWarning: The frame.append method is deprecated and will be removed from pandas in a future version. Use pandas.concat instead.\n",
      "  scene_df = scene_df.append({'shape': shape,\n",
      "/tmp/ipykernel_8862/1678006832.py:88: FutureWarning: The frame.append method is deprecated and will be removed from pandas in a future version. Use pandas.concat instead.\n",
      "  scene_df = scene_df.append({'shape': shape,\n",
      "/tmp/ipykernel_8862/1678006832.py:88: FutureWarning: The frame.append method is deprecated and will be removed from pandas in a future version. Use pandas.concat instead.\n",
      "  scene_df = scene_df.append({'shape': shape,\n",
      "/tmp/ipykernel_8862/1678006832.py:88: FutureWarning: The frame.append method is deprecated and will be removed from pandas in a future version. Use pandas.concat instead.\n",
      "  scene_df = scene_df.append({'shape': shape,\n"
     ]
    },
    {
     "data": {
      "text/html": [
       "<div>\n",
       "<style scoped>\n",
       "    .dataframe tbody tr th:only-of-type {\n",
       "        vertical-align: middle;\n",
       "    }\n",
       "\n",
       "    .dataframe tbody tr th {\n",
       "        vertical-align: top;\n",
       "    }\n",
       "\n",
       "    .dataframe thead th {\n",
       "        text-align: right;\n",
       "    }\n",
       "</style>\n",
       "<table border=\"1\" class=\"dataframe\">\n",
       "  <thead>\n",
       "    <tr style=\"text-align: right;\">\n",
       "      <th></th>\n",
       "      <th>shape</th>\n",
       "      <th>color</th>\n",
       "      <th>position</th>\n",
       "    </tr>\n",
       "  </thead>\n",
       "  <tbody>\n",
       "    <tr>\n",
       "      <th>0</th>\n",
       "      <td>rectangle</td>\n",
       "      <td>orange</td>\n",
       "      <td>(171, 172)</td>\n",
       "    </tr>\n",
       "    <tr>\n",
       "      <th>1</th>\n",
       "      <td>circle</td>\n",
       "      <td>red</td>\n",
       "      <td>(23, 140)</td>\n",
       "    </tr>\n",
       "    <tr>\n",
       "      <th>2</th>\n",
       "      <td>circle</td>\n",
       "      <td>gray</td>\n",
       "      <td>(127, 20)</td>\n",
       "    </tr>\n",
       "    <tr>\n",
       "      <th>3</th>\n",
       "      <td>circle</td>\n",
       "      <td>blue</td>\n",
       "      <td>(127, 136)</td>\n",
       "    </tr>\n",
       "    <tr>\n",
       "      <th>4</th>\n",
       "      <td>rectangle</td>\n",
       "      <td>green</td>\n",
       "      <td>(31, 80)</td>\n",
       "    </tr>\n",
       "    <tr>\n",
       "      <th>5</th>\n",
       "      <td>circle</td>\n",
       "      <td>yellow</td>\n",
       "      <td>(87, 17)</td>\n",
       "    </tr>\n",
       "  </tbody>\n",
       "</table>\n",
       "</div>"
      ],
      "text/plain": [
       "       shape   color    position\n",
       "0  rectangle  orange  (171, 172)\n",
       "1     circle     red   (23, 140)\n",
       "2     circle    gray   (127, 20)\n",
       "3     circle    blue  (127, 136)\n",
       "4  rectangle   green    (31, 80)\n",
       "5     circle  yellow    (87, 17)"
      ]
     },
     "execution_count": 73,
     "metadata": {},
     "output_type": "execute_result"
    }
   ],
   "source": [
    "scene = perceiver.scene_repr(img)\n",
    "scene"
   ]
  },
  {
   "cell_type": "code",
   "execution_count": null,
   "metadata": {},
   "outputs": [
    {
     "data": {
      "text/plain": [
       "<matplotlib.image.AxesImage at 0x7fa0ff56e5c0>"
      ]
     },
     "execution_count": 75,
     "metadata": {},
     "output_type": "execute_result"
    },
    {
     "data": {
      "image/png": "[encoded data removed]",
      "text/plain": [
       "<Figure size 640x480 with 1 Axes>"
      ]
     },
     "metadata": {},
     "output_type": "display_data"
    }
   ],
   "source": [
    "imshow(cv2.cvtColor(img, cv2.COLOR_BGR2RGB))"
   ]
  },
  {
   "cell_type": "code",
   "execution_count": null,
   "metadata": {},
   "outputs": [],
   "source": [
    "from torchtext.data import BucketIterator"
   ]
  },
  {
   "cell_type": "code",
   "execution_count": null,
   "metadata": {},
   "outputs": [],
   "source": [
    "import numpy as np\n",
    "import pandas as pd\n",
    "import pickle\n",
    "import os\n",
    "import torch\n",
    "from torch import nn\n",
    "from torchtext.data import Field, TabularDataset, BucketIterator\n",
    "import spacy\n",
    "from tqdm.notebook import tqdm\n",
    "\n",
    "class Preprocessor():\n",
    "    '''Preprocessor for preparing Queries and Programs for Seq2Seq'''\n",
    "    def __init__(self, train_csv):\n",
    "        self.spacy_en = spacy.load(\"en_core_web_sm\")\n",
    "        \n",
    "        # Create fields\n",
    "        self.que_f = Field(tokenize=self.tokenizer, use_vocab=True, init_token=\"<sos>\", eos_token=\"<eos>\", lower=True)\n",
    "        self.prog_f = Field(tokenize=self.tokenizer, use_vocab=True, init_token=\"<sos>\", eos_token=\"<eos>\", lower=True)\n",
    "        \n",
    "        # Preprocess\n",
    "        self.train_data = self.preprocess(train_csv)\n",
    "        \n",
    "    def tokenizer(self, text):\n",
    "        tokens = [tok.text.lower() for tok in self.spacy_en.tokenizer(text)]\n",
    "\n",
    "        updated_tokens = []\n",
    "        for i, tok in enumerate(tokens):\n",
    "            if tok == '<':\n",
    "                updated_tokens.append(''.join(tokens[i:i+3]))\n",
    "            elif tok in ['nxt', '>']:\n",
    "                continue\n",
    "            else:\n",
    "                updated_tokens.append(tok)\n",
    "\n",
    "        return updated_tokens\n",
    "    \n",
    "    def preprocess(self, train_csv):\n",
    "        '''Returns the Dataset'''\n",
    "        \n",
    "        # Create the fields\n",
    "        self.fields = {'query_text': ('query', self.que_f), 'program_text': ('program', self.prog_f)}\n",
    "        \n",
    "        # Create dataset object\n",
    "        train_data = TabularDataset.splits(path=\"./\", \n",
    "                                           train=train_csv, \n",
    "                                           format=\"csv\", \n",
    "                                           fields=self.fields)[0]\n",
    "        \n",
    "        # Build vocabulary\n",
    "        self.que_f.build_vocab(train_data, max_size=100, min_freq=1)\n",
    "        self.prog_f.build_vocab(train_data, max_size=100, min_freq=1, specials=['<nxt>'])\n",
    "        \n",
    "        return train_data"
   ]
  },
  {
   "cell_type": "code",
   "execution_count": null,
   "metadata": {},
   "outputs": [],
   "source": [
    "# Create the preprocessor object and preprocess\n",
    "preproc = Preprocessor('data/train/train_q2p.csv')"
   ]
  },
  {
   "cell_type": "code",
   "execution_count": null,
   "metadata": {},
   "outputs": [],
   "source": [
    "# Get the dataset object\n",
    "train_data = preproc.train_data"
   ]
  },
  {
   "cell_type": "code",
   "execution_count": null,
   "metadata": {},
   "outputs": [
    {
     "data": {
      "text/plain": [
       "torchtext.data.dataset.TabularDataset"
      ]
     },
     "execution_count": 83,
     "metadata": {},
     "output_type": "execute_result"
    }
   ],
   "source": [
    "type(train_data)"
   ]
  },
  {
   "cell_type": "code",
   "execution_count": null,
   "metadata": {},
   "outputs": [
    {
     "data": {
      "text/plain": [
       "defaultdict(<bound method Vocab._default_unk_index of <torchtext.vocab.Vocab object at 0x7fa08b6a7e80>>,\n",
       "            {'<unk>': 0,\n",
       "             '<pad>': 1,\n",
       "             '<sos>': 2,\n",
       "             '<eos>': 3,\n",
       "             '<nxt>': 4,\n",
       "             'filter': 5,\n",
       "             'query': 6,\n",
       "             'shape': 7,\n",
       "             'position': 8,\n",
       "             'relate': 9,\n",
       "             'orange': 10,\n",
       "             'gray': 11,\n",
       "             'count': 12,\n",
       "             'isleft': 13,\n",
       "             'istop': 14,\n",
       "             'closest': 15,\n",
       "             'red': 16,\n",
       "             'yellow': 17,\n",
       "             'furthest': 18,\n",
       "             'blue': 19,\n",
       "             'green': 20})"
      ]
     },
     "execution_count": 84,
     "metadata": {},
     "output_type": "execute_result"
    }
   ],
   "source": [
    "# Looking at the Vocabulary\n",
    "preproc.prog_f.vocab.stoi"
   ]
  },
  {
   "cell_type": "code",
   "execution_count": null,
   "metadata": {},
   "outputs": [
    {
     "data": {
      "text/plain": [
       "defaultdict(<bound method Vocab._default_unk_index of <torchtext.vocab.Vocab object at 0x7fa08b6a7fa0>>,\n",
       "            {'<unk>': 0,\n",
       "             '<pad>': 1,\n",
       "             '<sos>': 2,\n",
       "             '<eos>': 3,\n",
       "             'the': 4,\n",
       "             '?': 5,\n",
       "             'object': 6,\n",
       "             'is': 7,\n",
       "             'shape': 8,\n",
       "             'there': 9,\n",
       "             'what': 10,\n",
       "             'a': 11,\n",
       "             'on': 12,\n",
       "             'of': 13,\n",
       "             'orange': 14,\n",
       "             'gray': 15,\n",
       "             'are': 16,\n",
       "             'as': 17,\n",
       "             'how': 18,\n",
       "             'many': 19,\n",
       "             'objects': 20,\n",
       "             'same': 21,\n",
       "             'left': 22,\n",
       "             'top': 23,\n",
       "             'closest': 24,\n",
       "             'to': 25,\n",
       "             'red': 26,\n",
       "             'yellow': 27,\n",
       "             'from': 28,\n",
       "             'furthest': 29,\n",
       "             'blue': 30,\n",
       "             'green': 31})"
      ]
     },
     "execution_count": 85,
     "metadata": {},
     "output_type": "execute_result"
    }
   ],
   "source": [
    "# Looking at the Vocabulary\n",
    "preproc.que_f.vocab.stoi"
   ]
  },
  {
   "cell_type": "code",
   "execution_count": null,
   "metadata": {},
   "outputs": [],
   "source": [
    "# Training hyperparameters\n",
    "num_epochs = 3\n",
    "learning_rate = 3e-4\n",
    "batch_size = 8\n",
    "num_steps = len(train_data) / batch_size\n",
    "\n",
    "# Model hyperparameters\n",
    "config = {\n",
    "    'que_vocab_size': len(preproc.que_f.vocab),\n",
    "    'prog_vocab_size': len(preproc.prog_f.vocab),\n",
    "    'embedding_dim': 256,\n",
    "    'num_heads': 8,\n",
    "    'num_encoder_layers': 3,\n",
    "    'num_decoder_layers': 3,\n",
    "    'dropout': 0.10,\n",
    "    'max_len': 20,\n",
    "    'forward_expansion': 4,\n",
    "    'que_pad_idx': preproc.que_f.vocab.stoi[\"<pad>\"]\n",
    "}"
   ]
  },
  {
   "cell_type": "code",
   "execution_count": null,
   "metadata": {},
   "outputs": [],
   "source": [
    "# Save the config as a json file\n",
    "import json\n",
    "with open('config.json', 'w') as f:\n",
    "    json.dump(config, f)"
   ]
  },
  {
   "cell_type": "code",
   "execution_count": null,
   "metadata": {},
   "outputs": [],
   "source": [
    "device = torch.device(\"cuda\" if torch.cuda.is_available() else \"cpu\")"
   ]
  },
  {
   "cell_type": "code",
   "execution_count": null,
   "metadata": {},
   "outputs": [],
   "source": [
    "# Create Training Generator\n",
    "train_loader = BucketIterator.splits((train_data,),\n",
    "                                     batch_size=batch_size,\n",
    "                                     sort_within_batch=True,\n",
    "                                     sort_key=lambda x: len(x.query),\n",
    "                                     device=device)[0]"
   ]
  },
  {
   "cell_type": "code",
   "execution_count": null,
   "metadata": {},
   "outputs": [],
   "source": [
    "class Seq2Seq(nn.Module):\n",
    "    '''Sequence to Sequence Model using Transformers'''\n",
    "    def __init__(self,\n",
    "                 config,\n",
    "                 device=None):\n",
    "        super(Seq2Seq, self).__init__()\n",
    "        '''Initialize the model'''\n",
    "        \n",
    "        # Create word embedding layers\n",
    "        self.src_word_embedding = nn.Embedding(config['que_vocab_size'], config['embedding_dim'])\n",
    "        self.trg_word_embedding = nn.Embedding(config['prog_vocab_size'], config['embedding_dim'])\n",
    "        \n",
    "        # Create positional embedding layers\n",
    "        self.src_position_embedding = nn.Embedding(config['max_len'], config['embedding_dim'])\n",
    "        self.trg_position_embedding = nn.Embedding(config['max_len'], config['embedding_dim'])\n",
    "        \n",
    "        # Create transformer\n",
    "        self.transformer = nn.Transformer(config['embedding_dim'],\n",
    "                                          config['num_heads'],\n",
    "                                          config['num_encoder_layers'],\n",
    "                                          config['num_decoder_layers'],\n",
    "                                          config['forward_expansion'],\n",
    "                                          config['dropout'])\n",
    "        \n",
    "        # Feedforward for Logits over vocabulary\n",
    "        self.fc_out = nn.Linear(config['embedding_dim'], config['prog_vocab_size'])\n",
    "        self.dropout = nn.Dropout(config['dropout'])\n",
    "        \n",
    "        self.src_pad_idx = config['que_pad_idx']\n",
    "        \n",
    "        if device is None:\n",
    "            device = 'cuda' if torch.cuda.is_available() else 'cpu'\n",
    "        self.device = device\n",
    "        \n",
    "        # Mount to device\n",
    "        self.to(device)\n",
    "        \n",
    "    def make_src_mask(self, src):\n",
    "        '''Create padding mask for src sequence'''\n",
    "        src_mask = src.transpose(0, 1) == self.src_pad_idx\n",
    "        # (N, src_len)\n",
    "        return src_mask.to(self.device)\n",
    "    \n",
    "    def forward(self, src, trg):\n",
    "        '''Forward pass'''\n",
    "        src_seq_length, N = src.shape\n",
    "        trg_seq_length, N = trg.shape\n",
    "        \n",
    "        # Create positions\n",
    "        src_positions = torch.arange(0, src_seq_length).unsqueeze(1).expand(src_seq_length, N).to(self.device)\n",
    "        trg_positions = torch.arange(0, trg_seq_length).unsqueeze(1).expand(trg_seq_length, N).to(self.device)\n",
    "        \n",
    "        # Get embeddings\n",
    "        src_embeds = self.dropout(\n",
    "            (self.src_word_embedding(src) + self.src_position_embedding(src_positions))\n",
    "        )\n",
    "        trg_embeds = self.dropout(\n",
    "            (self.trg_word_embedding(trg) + self.trg_position_embedding(trg_positions))\n",
    "        )\n",
    "        \n",
    "        # Create masks\n",
    "        src_padding_mask = self.make_src_mask(src)\n",
    "        trg_mask = self.transformer.generate_square_subsequent_mask(trg_seq_length).to(self.device)\n",
    "        \n",
    "        # Pass everything through the transformer\n",
    "        out = self.transformer(src_embeds, \n",
    "                               trg_embeds, \n",
    "                               src_key_padding_mask=src_padding_mask,\n",
    "                               tgt_mask=trg_mask)\n",
    "        \n",
    "        # Get logits over the vocabulary with a linear layer\n",
    "        out = self.fc_out(out)\n",
    "        # output shape (trg_seq_len, N, trg_vocab_size)\n",
    "        return out\n",
    "    \n",
    "    def train_model(self, \n",
    "                    train_loader,\n",
    "                    num_epochs,\n",
    "                    num_steps,\n",
    "                    lr=3e-4,\n",
    "                    filename='semantic_parser.pth'):\n",
    "        \n",
    "        # Create optimizer and loss function\n",
    "        optimizer = torch.optim.Adam(self.parameters(), lr=lr)\n",
    "        scheduler = torch.optim.lr_scheduler.ReduceLROnPlateau(optimizer, \n",
    "                                                               factor=0.1, \n",
    "                                                               patience=10,\n",
    "                                                               verbose=True)\n",
    "        criterion = nn.CrossEntropyLoss(ignore_index=self.src_pad_idx)\n",
    "        \n",
    "        for epoch in range(num_epochs):\n",
    "            pbar = tqdm(total=num_steps, desc='Epoch {}'.format(epoch+1))\n",
    "            \n",
    "            self.train()\n",
    "            losses = []\n",
    "            \n",
    "            for i, batch in enumerate(train_loader):\n",
    "                # Get the inputs and targets\n",
    "                inp_seq, target = batch.query, batch.program\n",
    "\n",
    "                # Forward pass\n",
    "                output = self(inp_seq, target[:-1, :])\n",
    "\n",
    "                # Reshape the output and targets for criterion\n",
    "                output = output.reshape(-1, output.shape[2]) # (trg_seq_len * N, trg_vocab_size)\n",
    "                target = target[1:].reshape(-1)\n",
    "\n",
    "                optimizer.zero_grad()\n",
    "\n",
    "                # Calculate Loss\n",
    "                loss = criterion(output, target)\n",
    "                losses.append(loss.item())\n",
    "\n",
    "                # Backprop and Optimize\n",
    "                loss.backward()\n",
    "                nn.utils.clip_grad_norm_(self.parameters(), max_norm=1)\n",
    "                optimizer.step()\n",
    "                \n",
    "                # Metrics\n",
    "                pbar.update(1)\n",
    "                pbar.set_postfix({'Loss': loss.item()})\n",
    "\n",
    "            mean_loss = sum(losses) / len(losses)\n",
    "            scheduler.step(mean_loss)\n",
    "\n",
    "            print(f'Epoch {epoch+1}: Mean Loss = {mean_loss}\\n')\n",
    "            pbar.close()\n",
    "        \n",
    "        # Save Model\n",
    "        torch.save(self.state_dict(), filename)"
   ]
  },
  {
   "cell_type": "code",
   "execution_count": null,
   "metadata": {},
   "outputs": [],
   "source": [
    "# Create Model\n",
    "seq2seq = Seq2Seq(config)"
   ]
  },
  {
   "cell_type": "code",
   "execution_count": null,
   "metadata": {},
   "outputs": [
    {
     "data": {
      "application/vnd.jupyter.widget-view+json": {
       "model_id": "c6b334b0b9ba4241a1e417ba3a43f71d",
       "version_major": 2,
       "version_minor": 0
      },
      "text/plain": [
       "Epoch 1:   0%|          | 0/250.0 [00:00<?, ?it/s]"
      ]
     },
     "metadata": {},
     "output_type": "display_data"
    },
    {
     "name": "stdout",
     "output_type": "stream",
     "text": [
      "Epoch 1: Mean Loss = 0.0014343057175719878\n",
      "\n"
     ]
    },
    {
     "data": {
      "application/vnd.jupyter.widget-view+json": {
       "model_id": "220e84e27fba45eb8c155fe3725dcf1b",
       "version_major": 2,
       "version_minor": 0
      },
      "text/plain": [
       "Epoch 2:   0%|          | 0/250.0 [00:00<?, ?it/s]"
      ]
     },
     "metadata": {},
     "output_type": "display_data"
    },
    {
     "name": "stdout",
     "output_type": "stream",
     "text": [
      "Epoch 2: Mean Loss = 3.0090658765402622e-05\n",
      "\n"
     ]
    },
    {
     "data": {
      "application/vnd.jupyter.widget-view+json": {
       "model_id": "403135e3466b46dda56ec8c6f8bac964",
       "version_major": 2,
       "version_minor": 0
      },
      "text/plain": [
       "Epoch 3:   0%|          | 0/250.0 [00:00<?, ?it/s]"
      ]
     },
     "metadata": {},
     "output_type": "display_data"
    },
    {
     "name": "stdout",
     "output_type": "stream",
     "text": [
      "Epoch 3: Mean Loss = 1.5092090870894026e-05\n",
      "\n",
      "CPU times: user 57.7 s, sys: 193 ms, total: 57.9 s\n",
      "Wall time: 23.8 s\n"
     ]
    }
   ],
   "source": [
    "%%time\n",
    "# Train Model\n",
    "seq2seq.train_model(train_loader, num_epochs, num_steps, filename='semantic_parser.pth')"
   ]
  },
  {
   "cell_type": "code",
   "execution_count": null,
   "metadata": {},
   "outputs": [],
   "source": [
    "class SemanticParser():\n",
    "    '''Full Pipeline for Semantic Parsing from Query -> Program'''\n",
    "    def __init__(self, preprocessor, config, filename='models/semantic_parser.pth', device=None, max_len=20):\n",
    "        # Device\n",
    "        if device is None:\n",
    "            device = 'cuda' if torch.cuda.is_available() else 'cpu'\n",
    "        self.device = device\n",
    "        \n",
    "        # Fields (includes the vocabulary)\n",
    "        self.que_f = preprocessor.que_f\n",
    "        self.prog_f = preprocessor.prog_f\n",
    "        self.preproc = preprocessor\n",
    "        \n",
    "        # Maximum length of program\n",
    "        self.max_len = max_len\n",
    "        \n",
    "        # Load Model\n",
    "        self.model = Seq2Seq(config, device)\n",
    "        self.model.load_state_dict(torch.load(filename))\n",
    "        \n",
    "        \n",
    "    def predict(self, query):\n",
    "        '''Predicts the Program, given a query'''\n",
    "        # Tokenize\n",
    "        tokens = self.preproc.tokenizer(query)\n",
    "\n",
    "        # Add <sos> and <eos> in beginning and end respectively\n",
    "        tokens.insert(0, self.que_f.init_token)\n",
    "        tokens.append(self.que_f.eos_token)\n",
    "\n",
    "        # Convert the tokenized sequence into integers\n",
    "        query_indices = [self.que_f.vocab.stoi[tok] for tok in tokens]\n",
    "\n",
    "        # Convert to Tensor\n",
    "        query_tensor = torch.LongTensor(query_indices).unsqueeze(1).to(self.device)\n",
    "        \n",
    "        # Init the program sequence with <sos>\n",
    "        outputs = [self.prog_f.vocab.stoi[\"<sos>\"]]\n",
    "        \n",
    "        # Generating the program\n",
    "        for i in range(self.max_len):\n",
    "            \n",
    "            # Create program output tensor\n",
    "            program_tensor = torch.LongTensor(outputs).unsqueeze(1).to(self.device)\n",
    "            \n",
    "            # Predict next token\n",
    "            with torch.no_grad():\n",
    "                output = self.model(query_tensor, program_tensor)\n",
    "\n",
    "            # Get the word with highest probability\n",
    "            word_idx = output.argmax(2)[-1, :].item()\n",
    "            # Append to outputs\n",
    "            outputs.append(word_idx)\n",
    "\n",
    "            if word_idx == self.prog_f.vocab.stoi[\"<eos>\"]:\n",
    "                break\n",
    "\n",
    "        # Decode to english\n",
    "        program = [self.prog_f.vocab.itos[idx] for idx in outputs][1:-1]\n",
    "        # Convert to list of instructions\n",
    "        program_ = ' '.join(program).split(' <nxt> ')\n",
    "\n",
    "        return program_"
   ]
  },
  {
   "cell_type": "code",
   "execution_count": null,
   "metadata": {},
   "outputs": [],
   "source": [
    "sem_parser = SemanticParser(preproc, config)"
   ]
  },
  {
   "cell_type": "code",
   "execution_count": null,
   "metadata": {},
   "outputs": [
    {
     "data": {
      "text/plain": [
       "['filter red', 'query shape', 'filter', 'count']"
      ]
     },
     "execution_count": 101,
     "metadata": {},
     "output_type": "execute_result"
    }
   ],
   "source": [
    "program = sem_parser.predict('How many red circles are there?')\n",
    "program"
   ]
  },
  {
   "cell_type": "code",
   "execution_count": null,
   "metadata": {},
   "outputs": [],
   "source": [
    "import numpy as np\n",
    "import pandas as pd\n",
    "\n",
    "class DSL():\n",
    "    '''Domain Specific Language consisting of functions and relations'''\n",
    "    def __init__(self):\n",
    "        # Value to Attribute Converter\n",
    "        self.val2attr = {'shape': ['circle', 'rectangle'], 'color': ['red', 'green', 'blue', 'orange', 'gray', 'yellow']}\n",
    "        self.get_attr = lambda x: [k for k, v in self.val2attr.items() if x in v][0]\n",
    "        \n",
    "        # String to Function\n",
    "        self.str2func = {'filter': self.filter_, \n",
    "                         'query': self.query, \n",
    "                         'count': self.count, \n",
    "                         'relate': self.relate, \n",
    "                         'isleft': self.isLeft, \n",
    "                         'istop': self.isTop}\n",
    "        \n",
    "    def filter_(self, param):\n",
    "        '''Returns a subset of the scene based on the param'''    \n",
    "        # Filter Object(s) for scene\n",
    "        attr = self.get_attr(param)\n",
    "        filtered_objects = self.scene[self.scene[attr] == param]\n",
    "\n",
    "        return filtered_objects\n",
    "    \n",
    "    def query(self, obj, attr):\n",
    "        '''Returns the column value of object(s)'''\n",
    "        i = obj.index[0]\n",
    "        result = obj[attr][i]\n",
    "\n",
    "        return result\n",
    "    \n",
    "    def relate(self, obj, param):\n",
    "        '''Returns object which is either closest or furthest from all other objects of the scene'''\n",
    "        obj_pos = self.query(obj, 'position')\n",
    "        scene_pos = self.scene['position']\n",
    "\n",
    "        # Calculate distances\n",
    "        distances = np.array([np.linalg.norm(np.array(obj_pos) - np.array(pos)) for pos in scene_pos])\n",
    "        \n",
    "        sorted_dists = distances.argsort()\n",
    "            \n",
    "        if param == 'closest':\n",
    "            idx = sorted_dists[0] if distances[sorted_dists[0]] != 0 else sorted_dists[1]\n",
    "        elif param == 'furthest':\n",
    "            idx = sorted_dists[-1] if distances[sorted_dists[-1]] != 0 else sorted_dists[-2]\n",
    "        \n",
    "#         print(sorted_dists, distances, idx)\n",
    "\n",
    "        # Get the object from the scene of that index\n",
    "        req_obj = self.scene[self.scene.index == idx]\n",
    "\n",
    "        return req_obj\n",
    "    \n",
    "    def count(self, objects):\n",
    "        '''Counts the objects'''\n",
    "        return len(objects)\n",
    "    \n",
    "    def isLeft(self, pos):\n",
    "        '''Checks if a position is on the left half or not'''\n",
    "        return 'yes' if pos[0] < 112 else 'no'\n",
    "    \n",
    "    def isTop(self, pos):\n",
    "        '''Checks if a position is on the top half or not'''\n",
    "        return 'yes' if pos[1] < 112 else 'no'\n",
    "\n",
    "class ProgramExecutor(DSL):\n",
    "    '''Executes a given program'''\n",
    "    def __init__(self):\n",
    "        super().__init__()\n",
    "        pass\n",
    "    \n",
    "    def func_executor(self, func, param, prev_out):\n",
    "        '''Executes a given function with or without a parameter'''\n",
    "        # 0-1 arg functions\n",
    "        if func in ['filter']:\n",
    "            prev_out = self.filter_(param) if param != None else self.filter_(prev_out)\n",
    "\n",
    "        # Two arg functions\n",
    "        elif func in ['query', 'relate']:\n",
    "            prev_out = self.str2func[func](prev_out, param)\n",
    "\n",
    "        # One arg functions\n",
    "        elif func in ['count', 'isleft', 'istop']:\n",
    "            prev_out = self.str2func[func](prev_out)\n",
    "\n",
    "        return prev_out\n",
    "    \n",
    "    def __call__(self, scene, program):\n",
    "        '''Executes a program on the scene'''\n",
    "        self.scene = scene\n",
    "        \n",
    "        prev_out = None\n",
    "        for seq in program:\n",
    "            args = seq.split()\n",
    "            # print(args)\n",
    "#             try:\n",
    "            if len(args) < 2:\n",
    "                prev_out = self.func_executor(args[0], None, prev_out)\n",
    "            else:\n",
    "                prev_out = self.func_executor(args[0], args[1], prev_out)\n",
    "            # print(prev_out, '\\n')\n",
    "#             except:\n",
    "#                 prev_out = 'Failed'\n",
    "\n",
    "        return prev_out"
   ]
  },
  {
   "cell_type": "code",
   "execution_count": null,
   "metadata": {},
   "outputs": [],
   "source": [
    "executor = ProgramExecutor()"
   ]
  },
  {
   "cell_type": "code",
   "execution_count": null,
   "metadata": {},
   "outputs": [
    {
     "data": {
      "text/plain": [
       "['What is the closest shape to the orange object?',\n",
       " 'What is the furthest shape from the yellow object?',\n",
       " 'What is the furthest shape from the yellow object?',\n",
       " 'What is the furthest shape from the green object?',\n",
       " 'What is the furthest shape from the green object?',\n",
       " 'What is the furthest shape from the gray object?',\n",
       " 'How many objects of the same shape as the red object are there?',\n",
       " 'What is the closest shape to the red object?',\n",
       " 'What is the closest shape to the green object?',\n",
       " 'How many objects of the same shape as the blue object are there?',\n",
       " 'What is the shape of the yellow object?',\n",
       " 'Is there a red object on the top?',\n",
       " 'Is there a orange object on the left?',\n",
       " 'What is the shape of the red object?',\n",
       " 'Is there a yellow object on the left?',\n",
       " 'Is there a red object on the left?',\n",
       " 'Is there a green object on the top?',\n",
       " 'Is there a blue object on the left?',\n",
       " 'Is there a orange object on the left?',\n",
       " 'Is there a yellow object on the left?']"
      ]
     },
     "execution_count": 105,
     "metadata": {},
     "output_type": "execute_result"
    }
   ],
   "source": [
    "queries"
   ]
  },
  {
   "cell_type": "code",
   "execution_count": null,
   "metadata": {},
   "outputs": [],
   "source": [
    "# Run the program executor with on a full sample of 20 queries\n",
    "pred_ans = []\n",
    "for que in queries:\n",
    "    program = sem_parser.predict(que)\n",
    "    pred_ans.append(executor(scene, program))"
   ]
  },
  {
   "cell_type": "code",
   "execution_count": null,
   "metadata": {},
   "outputs": [
    {
     "data": {
      "text/plain": [
       "[('circle', 'circle'),\n",
       " ('rectangle', 'rectangle'),\n",
       " ('rectangle', 'rectangle'),\n",
       " ('rectangle', 'rectangle'),\n",
       " ('rectangle', 'rectangle'),\n",
       " ('circle', 'circle'),\n",
       " (4, '4'),\n",
       " ('rectangle', 'rectangle'),\n",
       " ('circle', 'circle'),\n",
       " (4, '4'),\n",
       " ('circle', 'circle'),\n",
       " ('no', 'no'),\n",
       " ('no', 'no'),\n",
       " ('circle', 'circle'),\n",
       " ('yes', 'yes'),\n",
       " ('yes', 'yes'),\n",
       " ('yes', 'yes'),\n",
       " ('no', 'no'),\n",
       " ('no', 'no'),\n",
       " ('yes', 'yes')]"
      ]
     },
     "execution_count": 107,
     "metadata": {},
     "output_type": "execute_result"
    }
   ],
   "source": [
    "list(zip(pred_ans, answers))"
   ]
  },
  {
   "cell_type": "code",
   "execution_count": null,
   "metadata": {},
   "outputs": [],
   "source": [
    "from program_executor import *\n",
    "from perception import *\n",
    "from semantic_parser import *\n",
    "import torch\n",
    "from skimage.io import imshow\n",
    "import cv2"
   ]
  },
  {
   "cell_type": "code",
   "execution_count": null,
   "metadata": {},
   "outputs": [],
   "source": [
    "# Load the config file for transformers\n",
    "import json\n",
    "with open('config.json', 'r') as f:\n",
    "    config = json.load(f)"
   ]
  },
  {
   "cell_type": "code",
   "execution_count": null,
   "metadata": {},
   "outputs": [],
   "source": [
    "class NSAIPipeline():\n",
    "    '''End-to-End Pipeline of Neuro-Symbolic AI on Sort-of-CLEVR dataset'''\n",
    "    def __init__(self, \n",
    "                 config,\n",
    "                 detector='models/detector.svm',\n",
    "                 classifier='models/classifier.pth',\n",
    "                 sem_parser='models/semantic_parser.pth',\n",
    "                 train_csv='data/train/train_q2p.csv',\n",
    "                 device=None):\n",
    "        \n",
    "        if device is None:\n",
    "            device = 'cuda' if torch.cuda.is_available() else 'cpu'\n",
    "        self.device = device\n",
    "        \n",
    "        # Perception Module\n",
    "        self.perceiver = PerceptionPipe(detector, classifier, self.device)\n",
    "        \n",
    "        # Semantic Parser\n",
    "        self.preproc = Preprocessor(train_csv)\n",
    "        self.sem_parser = SemanticParser(self.preproc, config, filename=sem_parser, device=self.device)\n",
    "        \n",
    "        # Program Executor\n",
    "        self.executor = ProgramExecutor()\n",
    "        \n",
    "    def predict(self, img, query):\n",
    "        '''\n",
    "        Make Prediction on a single image and question pair\n",
    "        \n",
    "        Args:\n",
    "            img (str/array): pixel values should be in 0-255 range\n",
    "                             of dtype uint8 in BGR color format or\n",
    "                             file path of the image\n",
    "            query (str): question about the image\n",
    "            \n",
    "        Returns:\n",
    "            str: answer of the query\n",
    "        '''\n",
    "        # Load img if it's a path\n",
    "        if type(img) == str:\n",
    "            img = cv2.imread(img)\n",
    "        \n",
    "        # Structured Scene Representation\n",
    "        scene = self.perceiver.scene_repr(img)\n",
    "        # Synthesize Program from Query\n",
    "        program = self.sem_parser.predict(query)\n",
    "        # Execute Program\n",
    "        answer = self.executor(scene, program)\n",
    "        \n",
    "        return answer, program\n",
    "    \n",
    "    def evaluate(self, csv, img_dir, debug=True):\n",
    "        '''\n",
    "        Evaluate the model on a dataset\n",
    "        \n",
    "        Args:\n",
    "            csv (str): path of the csv containing image filename, answer, query and program\n",
    "            img_dir (str): directory containing the images\n",
    "            debug (bool): View the data points which were wrong\n",
    "        Returns:\n",
    "            int: accuracy of the model\n",
    "        '''\n",
    "        data = pd.read_csv(csv).values\n",
    "        \n",
    "        correct = []\n",
    "        for filename, answer, query, program in tqdm(data):\n",
    "            # Load Image\n",
    "            img_path = os.path.join(img_dir, filename)\n",
    "            img = cv2.imread(img_path)\n",
    "            \n",
    "            # Make prediction\n",
    "            pred, pred_prog = self.predict(img, query)\n",
    "            \n",
    "            # Verify answer\n",
    "            if str(pred) == answer:\n",
    "                correct.append(1)\n",
    "            else:\n",
    "                if debug:\n",
    "                    print(filename, answer, pred, query, pred_prog)\n",
    "                correct.append(0)\n",
    "        \n",
    "        acc = (sum(correct) / len(correct)) * 100\n",
    "        \n",
    "        return acc"
   ]
  },
  {
   "cell_type": "code",
   "execution_count": null,
   "metadata": {},
   "outputs": [],
   "source": [
    "nsai = NSAIPipeline(config)"
   ]
  },
  {
   "cell_type": "code",
   "execution_count": null,
   "metadata": {},
   "outputs": [
    {
     "name": "stderr",
     "output_type": "stream",
     "text": [
      "/home/shr/Documents/projects/nsvqa/perception.py:208: FutureWarning: The frame.append method is deprecated and will be removed from pandas in a future version. Use pandas.concat instead.\n",
      "  scene_df = scene_df.append({'shape': shape,\n",
      "/home/shr/Documents/projects/nsvqa/perception.py:208: FutureWarning: The frame.append method is deprecated and will be removed from pandas in a future version. Use pandas.concat instead.\n",
      "  scene_df = scene_df.append({'shape': shape,\n",
      "/home/shr/Documents/projects/nsvqa/perception.py:208: FutureWarning: The frame.append method is deprecated and will be removed from pandas in a future version. Use pandas.concat instead.\n",
      "  scene_df = scene_df.append({'shape': shape,\n",
      "/home/shr/Documents/projects/nsvqa/perception.py:208: FutureWarning: The frame.append method is deprecated and will be removed from pandas in a future version. Use pandas.concat instead.\n",
      "  scene_df = scene_df.append({'shape': shape,\n",
      "/home/shr/Documents/projects/nsvqa/perception.py:208: FutureWarning: The frame.append method is deprecated and will be removed from pandas in a future version. Use pandas.concat instead.\n",
      "  scene_df = scene_df.append({'shape': shape,\n",
      "/home/shr/Documents/projects/nsvqa/perception.py:208: FutureWarning: The frame.append method is deprecated and will be removed from pandas in a future version. Use pandas.concat instead.\n",
      "  scene_df = scene_df.append({'shape': shape,\n"
     ]
    },
    {
     "data": {
      "text/plain": [
       "(6, ['filter gray', 'query shape', 'filter', 'count'])"
      ]
     },
     "execution_count": 112,
     "metadata": {},
     "output_type": "execute_result"
    }
   ],
   "source": [
    "nsai.predict('data/test/images/1.jpg', 'How many objects of the same shape as the gray object are there?')"
   ]
  },
  {
   "cell_type": "code",
   "execution_count": null,
   "metadata": {},
   "outputs": [],
   "source": [
    "# Evaluate on the test and get the accuracy\n",
    "nsai.evaluate('data/test/test_q2p.csv', 'data/test/images/', debug=False)"
   ]
  },
  {
   "cell_type": "code",
   "execution_count": null,
   "metadata": {},
   "outputs": [
    {
     "data": {
      "text/plain": [
       "<matplotlib.image.AxesImage at 0x7fa0876ad510>"
      ]
     },
     "execution_count": 122,
     "metadata": {},
     "output_type": "execute_result"
    },
    {
     "data": {
      "image/png": "[encoded data removed]",
      "text/plain": [
       "<Figure size 640x480 with 1 Axes>"
      ]
     },
     "metadata": {},
     "output_type": "display_data"
    }
   ],
   "source": [
    "img2 = cv2.imread('data/train/images/3.jpg')\n",
    "imshow(cv2.cvtColor(img2, cv2.COLOR_BGR2RGB))"
   ]
  },
  {
   "cell_type": "code",
   "execution_count": null,
   "metadata": {},
   "outputs": [
    {
     "name": "stderr",
     "output_type": "stream",
     "text": [
      "/home/shr/Documents/projects/nsvqa/perception.py:208: FutureWarning: The frame.append method is deprecated and will be removed from pandas in a future version. Use pandas.concat instead.\n",
      "  scene_df = scene_df.append({'shape': shape,\n",
      "/home/shr/Documents/projects/nsvqa/perception.py:208: FutureWarning: The frame.append method is deprecated and will be removed from pandas in a future version. Use pandas.concat instead.\n",
      "  scene_df = scene_df.append({'shape': shape,\n",
      "/home/shr/Documents/projects/nsvqa/perception.py:208: FutureWarning: The frame.append method is deprecated and will be removed from pandas in a future version. Use pandas.concat instead.\n",
      "  scene_df = scene_df.append({'shape': shape,\n",
      "/home/shr/Documents/projects/nsvqa/perception.py:208: FutureWarning: The frame.append method is deprecated and will be removed from pandas in a future version. Use pandas.concat instead.\n",
      "  scene_df = scene_df.append({'shape': shape,\n",
      "/home/shr/Documents/projects/nsvqa/perception.py:208: FutureWarning: The frame.append method is deprecated and will be removed from pandas in a future version. Use pandas.concat instead.\n",
      "  scene_df = scene_df.append({'shape': shape,\n",
      "/home/shr/Documents/projects/nsvqa/perception.py:208: FutureWarning: The frame.append method is deprecated and will be removed from pandas in a future version. Use pandas.concat instead.\n",
      "  scene_df = scene_df.append({'shape': shape,\n"
     ]
    },
    {
     "data": {
      "text/html": [
       "<div>\n",
       "<style scoped>\n",
       "    .dataframe tbody tr th:only-of-type {\n",
       "        vertical-align: middle;\n",
       "    }\n",
       "\n",
       "    .dataframe tbody tr th {\n",
       "        vertical-align: top;\n",
       "    }\n",
       "\n",
       "    .dataframe thead th {\n",
       "        text-align: right;\n",
       "    }\n",
       "</style>\n",
       "<table border=\"1\" class=\"dataframe\">\n",
       "  <thead>\n",
       "    <tr style=\"text-align: right;\">\n",
       "      <th></th>\n",
       "      <th>shape</th>\n",
       "      <th>color</th>\n",
       "      <th>position</th>\n",
       "    </tr>\n",
       "  </thead>\n",
       "  <tbody>\n",
       "    <tr>\n",
       "      <th>0</th>\n",
       "      <td>rectangle</td>\n",
       "      <td>green</td>\n",
       "      <td>(159, 188)</td>\n",
       "    </tr>\n",
       "    <tr>\n",
       "      <th>1</th>\n",
       "      <td>rectangle</td>\n",
       "      <td>red</td>\n",
       "      <td>(103, 152)</td>\n",
       "    </tr>\n",
       "    <tr>\n",
       "      <th>2</th>\n",
       "      <td>rectangle</td>\n",
       "      <td>yellow</td>\n",
       "      <td>(19, 84)</td>\n",
       "    </tr>\n",
       "    <tr>\n",
       "      <th>3</th>\n",
       "      <td>rectangle</td>\n",
       "      <td>blue</td>\n",
       "      <td>(151, 44)</td>\n",
       "    </tr>\n",
       "    <tr>\n",
       "      <th>4</th>\n",
       "      <td>rectangle</td>\n",
       "      <td>gray</td>\n",
       "      <td>(59, 148)</td>\n",
       "    </tr>\n",
       "    <tr>\n",
       "      <th>5</th>\n",
       "      <td>circle</td>\n",
       "      <td>orange</td>\n",
       "      <td>(47, 112)</td>\n",
       "    </tr>\n",
       "  </tbody>\n",
       "</table>\n",
       "</div>"
      ],
      "text/plain": [
       "       shape   color    position\n",
       "0  rectangle   green  (159, 188)\n",
       "1  rectangle     red  (103, 152)\n",
       "2  rectangle  yellow    (19, 84)\n",
       "3  rectangle    blue   (151, 44)\n",
       "4  rectangle    gray   (59, 148)\n",
       "5     circle  orange   (47, 112)"
      ]
     },
     "execution_count": 126,
     "metadata": {},
     "output_type": "execute_result"
    }
   ],
   "source": [
    "nsai.executor.scene = nsai.perceiver.scene_repr(img2)\n",
    "nsai.executor.scene"
   ]
  },
  {
   "cell_type": "code",
   "execution_count": null,
   "metadata": {},
   "outputs": [
    {
     "data": {
      "text/plain": [
       "['filter green', 'query shape', 'filter', 'count']"
      ]
     },
     "execution_count": 127,
     "metadata": {},
     "output_type": "execute_result"
    }
   ],
   "source": [
    "program = nsai.sem_parser.predict('How many objects of same shape of green colour object?')\n",
    "program"
   ]
  },
  {
   "cell_type": "code",
   "execution_count": null,
   "metadata": {},
   "outputs": [],
   "source": [
    "string=''\n",
    "for i in program:\n",
    "    if len(i.split(' ')) == 2:\n",
    "        string = string"
   ]
  },
  {
   "cell_type": "code",
   "execution_count": null,
   "metadata": {},
   "outputs": [
    {
     "data": {
      "text/plain": [
       "5"
      ]
     },
     "execution_count": 129,
     "metadata": {},
     "output_type": "execute_result"
    }
   ],
   "source": [
    "nsai.executor.count(nsai.executor.filter_(nsai.executor.query(nsai.executor.filter_('green'), 'shape')))"
   ]
  },
  {
   "cell_type": "code",
   "execution_count": null,
   "metadata": {},
   "outputs": [
    {
     "data": {
      "text/plain": [
       "2"
      ]
     },
     "execution_count": 120,
     "metadata": {},
     "output_type": "execute_result"
    }
   ],
   "source": [
    "nsai.executor.count(nsai.executor.filter_(nsai.executor.query(nsai.executor.filter_('orange'), 'shape')))"
   ]
  },
  {
   "cell_type": "code",
   "execution_count": null,
   "metadata": {},
   "outputs": [
    {
     "data": {
      "text/plain": [
       "'circle'"
      ]
     },
     "execution_count": 121,
     "metadata": {},
     "output_type": "execute_result"
    }
   ],
   "source": [
    "nsai.executor.query(nsai.executor.relate(nsai.executor.filter_('green'), 'furthest'), 'shape')"
   ]
  },
  {
   "cell_type": "code",
   "execution_count": null,
   "metadata": {},
   "outputs": [],
   "source": []
  }
 ],
 "metadata": {
  "kernelspec": {
   "display_name": "Python 3",
   "language": "python",
   "name": "python3"
  },
  "language_info": {
   "codemirror_mode": {
    "name": "ipython",
    "version": 3
   },
   "file_extension": ".py",
   "mimetype": "text/x-python",
   "name": "python",
   "nbconvert_exporter": "python",
   "pygments_lexer": "ipython3",
   "version": "3.10.12"
  },
  "orig_nbformat": 4
 },
 "nbformat": 4,
 "nbformat_minor": 2
}
